{
 "cells": [
  {
   "cell_type": "code",
   "execution_count": 1,
   "id": "946cf7a1",
   "metadata": {},
   "outputs": [],
   "source": [
    "import pyarrow.parquet as pq\n",
    "\n",
    "# Load the Parquet file\n",
    "table = pq.read_table(\"../dataset/rlla_4k/test.parquet\")\n",
    "\n",
    "# Convert to a record batch (like a table of rows)\n",
    "records = table.to_pylist()  # This is a list of dicts, one per row\n"
   ]
  },
  {
   "cell_type": "code",
   "execution_count": 2,
   "id": "0319dcf4",
   "metadata": {},
   "outputs": [],
   "source": [
    "\n",
    "row_idx = 0  # Change this to the row index you want to inspect"
   ]
  },
  {
   "cell_type": "code",
   "execution_count": 3,
   "id": "f2b9c9e4",
   "metadata": {},
   "outputs": [
    {
     "name": "stdout",
     "output_type": "stream",
     "text": [
      "Dataset row index: 0\n",
      "data_source: rlla\n",
      "ability: math\n",
      "\n",
      "role: system\n",
      "content:\n"
     ]
    },
    {
     "data": {
      "text/html": [
       "<div style='font-weight: bold; white-space: pre-wrap; word-wrap: break-word;'>You are a helpful multi-turn dialogue assistant capable of leveraging tool calls to solve user tasks and provide structured chat responses.\n",
       "\n",
       "**Available Tools**\n",
       "In your response, you can use the following tools:\n",
       "1. Name: GetPowerBINews\n",
       "Description: Retrieve news related to Power BI.\n",
       "Parameters: {\"page\": {\"description\": \"The page number to retrieve.\", \"type\": \"int\", \"default\": \"\"}}\n",
       "2. Name: SingleOffer\n",
       "Description: API that retrieves information for a single offer from Avito\n",
       "Parameters: {\"singleav\": {\"description\": \"The URL of the Avito offer to retrieve information for\", \"type\": \"string\", \"default\": \"https://www.avito.ma/fr/autre_secteur/maisons_et_villas/Villa_OCP_4_faces_sur_550_metre_de_terrain_49107436.htm\"}}\n",
       "3. Name: Domain WHOIS Lookup API\n",
       "Description: Retrieves WHOIS information for a given domain name.\n",
       "Parameters: {\"domain_name\": {\"description\": \"The domain name for which you would like to retrieve WHOIS details.\", \"type\": \"string\", \"default\": \"\"}}\n",
       "4. Name: GetNews\n",
       "Description: Retrieve Azure news articles\n",
       "Parameters: {\"page\": {\"description\": \"The page number of news articles to retrieve\", \"type\": \"int\", \"default\": \"\"}}\n",
       "\n",
       "**Steps for Each Turn**\n",
       "1. **Think:** Recall relevant context and analyze the current user goal.\n",
       "2. **Decide on Tool Usage:** If a tool is needed, specify the tool and its parameters.\n",
       "3. **Respond Appropriately:** If a response is needed, generate one while maintaining consistency across user queries.\n",
       "\n",
       "**Output Format**\n",
       "```plaintext\n",
       "<think> Your thoughts and reasoning </think>\n",
       "<tool_call>\n",
       "{\"name\": \"Tool name\", \"parameters\": {\"Parameter name\": \"Parameter content\", \"... ...\": \"... ...\"}}\n",
       "{\"name\": \"... ...\", \"parameters\": {\"... ...\": \"... ...\", \"... ...\": \"... ...\"}}\n",
       "...\n",
       "</tool_call>\n",
       "<response> AI's final response </response>\n",
       "```\n",
       "\n",
       "**Important Notes**\n",
       "1. You must always include the `<think>` field to outline your reasoning. Provide at least one of `<tool_call>` or `<response>`. Decide whether to use `<tool_call>` (possibly multiple times), `<response>`, or both.\n",
       "2. You can invoke multiple tool calls simultaneously in the `<tool_call>` fields. Each tool call should be a JSON object with a \"name\" field and an \"parameters\" field containing a dictionary of parameters. If no parameters are needed, leave the \"parameters\" field an empty dictionary.\n",
       "3. Refer to the previous dialogue records in the history, including the user's queries, previous `<tool_call>`, `<response>`, and any tool feedback noted as `<obs>` (if exists).</div>"
      ],
      "text/plain": [
       "<IPython.core.display.HTML object>"
      ]
     },
     "metadata": {},
     "output_type": "display_data"
    },
    {
     "name": "stdout",
     "output_type": "stream",
     "text": [
      "role: user\n",
      "content:\n"
     ]
    },
    {
     "data": {
      "text/html": [
       "<div style='font-weight: bold; white-space: pre-wrap; word-wrap: break-word;'>**Dialogue Records History**\n",
       "<user> Hey, I'm looking to stay current on Azure services. Could you fetch the latest news on that topic for me? </user></div>"
      ],
      "text/plain": [
       "<IPython.core.display.HTML object>"
      ]
     },
     "metadata": {},
     "output_type": "display_data"
    },
    {
     "name": "stdout",
     "output_type": "stream",
     "text": [
      "reward model style: rule\n",
      "reward model ground truth:\n"
     ]
    },
    {
     "data": {
      "text/html": [
       "<div style='font-weight: bold; white-space: pre-wrap; word-wrap: break-word;'><think> I should use the appropriate tool with proper parameters to respond to the user's need. </think>\n",
       "<tool_call>\n",
       "{\"name\": \"GetNews\", \"parameters\": {\"page\": \"1\"}}\n",
       "</tool_call></div>"
      ],
      "text/plain": [
       "<IPython.core.display.HTML object>"
      ]
     },
     "metadata": {},
     "output_type": "display_data"
    },
    {
     "name": "stdout",
     "output_type": "stream",
     "text": [
      "extra info index: 0\n",
      "extra info split: test\n",
      "extra info input: \n"
     ]
    },
    {
     "data": {
      "text/html": [
       "<div style='white-space: pre-wrap; word-wrap: break-word;'>**Dialogue Records History**\n",
       "<user> Hey, I'm looking to stay current on Azure services. Could you fetch the latest news on that topic for me? </user></div>"
      ],
      "text/plain": [
       "<IPython.core.display.HTML object>"
      ]
     },
     "metadata": {},
     "output_type": "display_data"
    }
   ],
   "source": [
    "from IPython.display import display, HTML\n",
    "\n",
    "record = records[row_idx]\n",
    "prompt = record['prompt']\n",
    "# content = record['content']\n",
    "# for k in record.keys():\n",
    "#     display(HTML(f\"<div style='white-space: pre-wrap; word-wrap: break-word;'>{k}</div>\"))\n",
    "print(\"Dataset row index: \" + str(row_idx))\n",
    "row_idx += 1\n",
    "print(\"data_source: \" + record['data_source'])\n",
    "print(\"ability: \" + record['ability'])\n",
    "print()\n",
    "for p in prompt:\n",
    "    print(\"role: \" + p['role'])\n",
    "    print(\"content:\")\n",
    "    display(HTML(f\"<div style='font-weight: bold; white-space: pre-wrap; word-wrap: break-word;'>{p['content']}</div>\"))\n",
    "\n",
    "reward_model = record['reward_model']\n",
    "\n",
    "print(\"reward model style: \" + reward_model['style'])\n",
    "print(\"reward model ground truth:\")\n",
    "display(HTML(f\"<div style='font-weight: bold; white-space: pre-wrap; word-wrap: break-word;'>{reward_model['ground_truth']}</div>\"))\n",
    "extra_info = record['extra_info']\n",
    "\n",
    "print(\"extra info index: \" + str(extra_info['index']))\n",
    "print(\"extra info split: \" + extra_info['split'])\n",
    "print(\"extra info input: \")\n",
    "display(HTML(f\"<div style='white-space: pre-wrap; word-wrap: break-word;'>{extra_info['input']}</div>\"))\n",
    "# print(\"instruction: \")\n",
    "# display(HTML(f\"<div style='white-space: pre-wrap; word-wrap: break-word;'>{extra_info['instruction']}</div>\"))\n",
    "# print(\"extra info output: \")\n",
    "# display(HTML(f\"<div style='white-space: pre-wrap; word-wrap: break-word;'>{extra_info['output']}</div>\"))"
   ]
  },
  {
   "cell_type": "code",
   "execution_count": 4,
   "id": "7df75e9f",
   "metadata": {},
   "outputs": [
    {
     "name": "stdout",
     "output_type": "stream",
     "text": [
      "rule\n"
     ]
    }
   ],
   "source": [
    "reward_model_styles = set()\n",
    "\n",
    "for record in records:\n",
    "    reward_model = record['reward_model']\n",
    "    style = reward_model['style']\n",
    "    if style not in reward_model_styles:\n",
    "        reward_model_styles.add(style)\n",
    "        print(style)"
   ]
  }
 ],
 "metadata": {
  "kernelspec": {
   "display_name": ".venv",
   "language": "python",
   "name": "python3"
  },
  "language_info": {
   "codemirror_mode": {
    "name": "ipython",
    "version": 3
   },
   "file_extension": ".py",
   "mimetype": "text/x-python",
   "name": "python",
   "nbconvert_exporter": "python",
   "pygments_lexer": "ipython3",
   "version": "3.12.1"
  }
 },
 "nbformat": 4,
 "nbformat_minor": 5
}
